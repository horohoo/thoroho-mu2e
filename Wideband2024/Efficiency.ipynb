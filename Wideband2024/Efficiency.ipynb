{
 "cells": [
  {
   "cell_type": "code",
   "execution_count": 1,
   "id": "5f0a1d65-e176-4619-bd9e-3f83492d28fd",
   "metadata": {
    "tags": []
   },
   "outputs": [],
   "source": [
    "DATASET_data=\"rec.mu2e.CRV_wideband_cosmics.CRVWB-000-008-000.root\"\n",
    "DATASET_MC_v1=\"nts.mu2e.CRV_wideband_cosmics-mc.config_0012_v1.root\"\n",
    "DATASET_MC_v2=\"nts.mu2e.CRV_wideband_cosmics-mc.config_0012_v2.root\"\n",
    "DATASET_MC_v7 = \"nts.mu2e.WidebandCRV_v7.MDC2020ae.root\""
   ]
  },
  {
   "cell_type": "code",
   "execution_count": 2,
   "id": "c902a0aa-20e1-46df-b6ef-f74e7c863f7d",
   "metadata": {
    "tags": []
   },
   "outputs": [],
   "source": [
    "import time\n",
    "import os\n",
    "import numpy as np\n",
    "import gc\n",
    "from mu2etools import *\n",
    "from mu2etools import wideband\n",
    "\n",
    "hep.style.use('ATLAS')"
   ]
  },
  {
   "cell_type": "code",
   "execution_count": 3,
   "id": "60a77992-fabb-4635-b934-92f4ba748c6e",
   "metadata": {
    "tags": []
   },
   "outputs": [],
   "source": [
    "runs = [1720, 1721, 1722, 1723, 1724, 1727, 1728, 1729, 1730, 1731, 1732, 1738, 2004, 2005, 2006, 2007, 2008, 2009, 2015, 2024, 2025, 2026, 2027, 2028]\n",
    "processor = wideband.DataProcessor(usexroot=True, treename='run', runlist=runs, userunlist=True, remove=False)\n",
    "filelist_data = processor.getFilelist(DATASET_data)\n",
    "#append \"run\" at the end of each file name\n",
    "filelist_data = [\"{}{}\".format(i, \":run\") for i in filelist_data]"
   ]
  },
  {
   "cell_type": "code",
   "execution_count": 4,
   "id": "5ccdb816-a6e9-4145-a3db-b92e143b9700",
   "metadata": {
    "tags": []
   },
   "outputs": [],
   "source": [
    "processor = wideband.DataProcessor(usexroot=True, treename='CrvWidebandTest/WidebandTree', runlist=[1738], userunlist=False, remove=False)\n",
    "\n",
    "filelist_mc_v7 = processor.getFilelist(DATASET_MC_v7)\n",
    "#append \"run\" at the end of each file name\n",
    "filelist_mc_v7 = [\"{}{}\".format(i, \":CrvWidebandTest/run\") for i in filelist_mc_v7]\n",
    "\n",
    "filelist_mc_v2 = processor.getFilelist(DATASET_MC_v2)\n",
    "#append \"run\" at the end of each file name\n",
    "filelist_mc_v2 = [\"{}{}\".format(i, \":CrvWidebandTest/run\") for i in filelist_mc_v2]\n",
    "\n",
    "filelist_mc_v1 = processor.getFilelist(DATASET_MC_v1)\n",
    "#append \"run\" at the end of each file name\n",
    "#filelist_mc = [\"{}{}\".format(i, \":CrvWidebandTest/WidebandTree\") for i in filelist_mc]\n",
    "filelist_mc_v1 = [\"{}{}\".format(i, \":CrvWidebandTest/run\") for i in filelist_mc_v1]"
   ]
  },
  {
   "cell_type": "code",
   "execution_count": 5,
   "id": "bdc5236d-1ebc-43e7-b1ec-e9efebcc3de5",
   "metadata": {
    "tags": []
   },
   "outputs": [
    {
     "name": "stdout",
     "output_type": "stream",
     "text": [
      "Processing file: root://fndcadoor.fnal.gov:1094/mu2e/tape/phy-rec/rec/mu2e/CRV_wideband_cosmics/CRVWB-000-008-000/root/fc/22/rec.mu2e.CRV_wideband_cosmics.CRVWB-000-008-000.001720_000.root:run\n"
     ]
    },
    {
     "name": "stderr",
     "output_type": "stream",
     "text": [
      "/home/thoroho/.conda/envs/Mu2eCRV/lib/python3.10/site-packages/awkward/_backends.py:57: RuntimeWarning: divide by zero encountered in divide\n",
      "  return getattr(ufunc, method)(*args, **kwargs)\n",
      "/home/thoroho/.conda/envs/Mu2eCRV/lib/python3.10/site-packages/awkward/_backends.py:57: RuntimeWarning: invalid value encountered in divide\n",
      "  return getattr(ufunc, method)(*args, **kwargs)\n"
     ]
    },
    {
     "name": "stdout",
     "output_type": "stream",
     "text": [
      "475 files loaded out of 73\n",
      "Total events: 9507173\n",
      "Events after cleanup cuts: 2718855\n",
      "Events after module 169 triggering: 4428035\n"
     ]
    }
   ],
   "source": [
    "# Real Wideband data\n",
    "\n",
    "# List of variable to import\n",
    "varlist=['PEs', 'trackIntercept', 'trackChi2', 'trackPoints', 'trackPEs', \n",
    "         'runNumber', 'subrunNumber', 'spillNumber', 'eventNumber']\n",
    "varlist_keep = ['PEs_testlayers', 'runNumber', 'subrunNumber', 'spillNumber', 'eventNumber']\n",
    "#varlist_keep = ['PEs_testlayers', 'trackIntercept', 'trackChi2NDF', 'trackPoints', 'trackPEs', \n",
    "#         'PEsPerHit', 'runNumber', 'subrunNumber', 'spillNumber', 'eventNumber']\n",
    "\n",
    "ar_skim_list_cleanup_data = []\n",
    "ar_skim_list_169_data = []\n",
    "\n",
    "histbins = np.linspace(2,400,800)\n",
    "hPEs_data, bins = np.histogram([], bins=histbins)\n",
    "\n",
    "allevents = 0\n",
    "cutevents_cleanup = 0\n",
    "cutevents_169 = 0\n",
    "\n",
    "allfiles = 0\n",
    "filesloaded = 0\n",
    "\n",
    "for idx, filename in enumerate(filelist_data):\n",
    "    if idx%100 == 0:\n",
    "        print(\"Processing file: %s\"%filename)\n",
    "    allfiles += 1\n",
    "    try:\n",
    "        with uproot.open(filename) as file:\n",
    "            for ar in file.iterate(step_size=\"10MB\", \n",
    "                                           filter_name=varlist, \n",
    "                                           report=False, library='ak'):\n",
    "                allevents += len(ar[\"eventNumber\"])\n",
    "\n",
    "                ar[\"PEs\"] = ak.where(ar[\"PEs\"] >= 5, ar[\"PEs\"], 0)\n",
    "\n",
    "                FEB0_0 = (ak.sum(ar[\"PEs\"][:,0,8:32], axis=-1)>10)\n",
    "                FEB0_1 = (ak.sum(ar[\"PEs\"][:,0,32:64], axis=-1)>10)\n",
    "\n",
    "                FEB1_0 = (ak.sum(ar[\"PEs\"][:,1,4:28], axis=-1)>10) #0:32\n",
    "                FEB1_1 = (ak.sum(ar[\"PEs\"][:,1,36:60], axis=-1)>10)\n",
    "\n",
    "                FEB2_0 = (ak.sum(ar[\"PEs\"][:,2,4:28], axis=-1)>10)\n",
    "                FEB2_1 = (ak.sum(ar[\"PEs\"][:,2,36:60], axis=-1)>10) #32:64\n",
    "\n",
    "                FEB3_0 = (ak.sum(ar[\"PEs\"][:,3,8:32], axis=-1)>10)\n",
    "                FEB3_1 = (ak.sum(ar[\"PEs\"][:,3,32:64], axis=-1)>10)\n",
    "\n",
    "                FEB4_0 = (ak.sum(ar[\"PEs\"][:,4,0:32], axis=-1)>10)\n",
    "                FEB4_1 = (ak.sum(ar[\"PEs\"][:,4,32:64], axis=-1)>10)\n",
    "\n",
    "                FEB5_0 = (ak.sum(ar[\"PEs\"][:,5,0:32], axis=-1)>10)\n",
    "                FEB5_1 = (ak.sum(ar[\"PEs\"][:,5,32:64], axis=-1)>10)\n",
    "\n",
    "                FEB6_0 = (ak.sum(ar[\"PEs\"][:,6,0:32], axis=-1)>10)\n",
    "                FEB6_1 = (ak.sum(ar[\"PEs\"][:,6,32:64], axis=-1)>10)\n",
    "\n",
    "                FEB7_0 = (ak.sum(ar[\"PEs\"][:,7,8:32], axis=-1)>10)\n",
    "                FEB7_1 = (ak.sum(ar[\"PEs\"][:,7,32:64], axis=-1)>10)\n",
    "\n",
    "                nTrigHits = ak.values_astype(FEB0_0, \"int\") + ak.values_astype(FEB0_1, \"int\") + \\\n",
    "                            ak.values_astype(FEB3_0, \"int\") + ak.values_astype(FEB3_1, \"int\") + \\\n",
    "                            ak.values_astype(FEB4_0, \"int\") + ak.values_astype(FEB4_1, \"int\") + \\\n",
    "                            ak.values_astype(FEB5_0, \"int\") + ak.values_astype(FEB5_1, \"int\") + \\\n",
    "                            ak.values_astype(FEB6_0, \"int\") + ak.values_astype(FEB6_1, \"int\") + \\\n",
    "                            ak.values_astype(FEB7_0, \"int\") + ak.values_astype(FEB7_1, \"int\")\n",
    "\n",
    "                hPEsRun, bins = np.histogram(ak.flatten(ar[\"PEs\"][:,1,0:64]), bins=histbins)\n",
    "                hPEs_data = np.add(hPEs_data, hPEsRun)\n",
    "                hPEsRun, bins = np.histogram(ak.flatten(ar[\"PEs\"][:,2,0:64]), bins=histbins)\n",
    "                hPEs_data = np.add(hPEs_data, hPEsRun)\n",
    "\n",
    "                ar['trackChi2NDF'] = ak.where(ar['trackPoints'] > 2, ar['trackChi2'] / (ar['trackPoints'] - 2), -999)\n",
    "                ar['PEsPerHit'] = ak.where(ar['trackPoints'] > 2, ar['trackPEs'] / (ar['trackPoints']), -999)\n",
    "                ar[\"PEs_testlayers\"] = ar[\"PEs\"][:,np.arange(1,3)]\n",
    "\n",
    "                ar_cleanup = ar[(nTrigHits >=11) & (ar[\"trackIntercept\"] < -200) & (ar[\"trackIntercept\"] > -700) & (ar[\"trackPEs\"] < 2600) & (ar[\"trackChi2NDF\"] < 25) & (ar[\"trackChi2NDF\"] > 0)]\n",
    "                ar_169 = ar[FEB1_0 & FEB2_1]\n",
    "                cutevents_cleanup += len(ar_cleanup[\"eventNumber\"])\n",
    "                cutevents_169 += len(ar_169[\"eventNumber\"])\n",
    "\n",
    "                # Append to the list\n",
    "                ar_skim_list_cleanup_data.append(ar_cleanup[varlist_keep])\n",
    "                ar_skim_list_169_data.append(ar_169[varlist_keep])\n",
    "\n",
    "                filesloaded += 1\n",
    "    except:\n",
    "        continue\n",
    "    \n",
    "        \n",
    "print(\"{0} files loaded out of {1}\".format(filesloaded, allfiles))\n",
    "print(\"Total events: {0}\".format(allevents))\n",
    "print(\"Events after cleanup cuts: {0}\".format(cutevents_cleanup))\n",
    "print(\"Events after module 169 triggering: {0}\".format(cutevents_169))"
   ]
  },
  {
   "cell_type": "code",
   "execution_count": null,
   "id": "5632eb34-52e7-4372-8615-626f465d6aa6",
   "metadata": {},
   "outputs": [],
   "source": []
  }
 ],
 "metadata": {
  "kernelspec": {
   "display_name": "Python [conda env:.conda-Mu2eCRV]",
   "language": "python",
   "name": "conda-env-.conda-Mu2eCRV-py"
  },
  "language_info": {
   "codemirror_mode": {
    "name": "ipython",
    "version": 3
   },
   "file_extension": ".py",
   "mimetype": "text/x-python",
   "name": "python",
   "nbconvert_exporter": "python",
   "pygments_lexer": "ipython3",
   "version": "3.10.8"
  }
 },
 "nbformat": 4,
 "nbformat_minor": 5
}
